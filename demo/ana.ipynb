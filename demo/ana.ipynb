{
 "cells": [
  {
   "cell_type": "code",
   "execution_count": 57,
   "id": "b4222a62-4b07-48d0-9e40-57afb2dbaefb",
   "metadata": {
    "tags": []
   },
   "outputs": [],
   "source": [
    "import pandas as pd\n",
    "from pathlib import Path\n",
    "import sys\n",
    "import os\n",
    "import glob\n",
    "import doctest\n",
    "\n",
    "src_path = os.path.abspath(os.path.join(os.getcwd(), '..', 'src'))\n",
    "if src_path not in sys.path:\n",
    "    sys.path.append(src_path)\n",
    "\n",
    "import importlib\n",
    "import ParticleFrames\n",
    "importlib.reload(ParticleFrames)\n",
    "\n",
    "ParticleFrame = ParticleFrames.ParticleFrame\n",
    "EnsembleFrames = ParticleFrames.EnsembleFrames\n",
    "DesPartFrame = ParticleFrames.DesPartFrame\n",
    "\n",
    "mid_sorted = EnsembleFrames.mid_sorted\n",
    "tail_sorted = EnsembleFrames.tail_sorted"
   ]
  },
  {
   "cell_type": "code",
   "execution_count": 58,
   "id": "cfc9466b",
   "metadata": {},
   "outputs": [],
   "source": [
    "result = doctest.testmod(ParticleFrames)"
   ]
  },
  {
   "cell_type": "code",
   "execution_count": 61,
   "id": "f62e80c0",
   "metadata": {},
   "outputs": [],
   "source": [
    "tpdir = r'../data/enstest/'\n",
    "tpfs = sorted(glob.glob(os.path.join(tpdir,'*ensemble*')),key=tail_sorted)\n",
    "des = glob.glob(tpdir+'*destroy*')[0]\n",
    "ens = EnsembleFrames(tpfs)\n",
    "desf = DesPartFrame(des)"
   ]
  },
  {
   "cell_type": "code",
   "execution_count": null,
   "id": "dc4d1a00",
   "metadata": {},
   "outputs": [],
   "source": [
    "f1 = lambda df: df.get_indexed(desf.get_erange(1,100)['index'].compute())\n",
    "ens.plot_yproj(interval=10, hdf=f1)"
   ]
  },
  {
   "cell_type": "code",
   "execution_count": null,
   "id": "16af69a5",
   "metadata": {},
   "outputs": [],
   "source": [
    "singlef = ens.derive_single_traj(1862)"
   ]
  },
  {
   "cell_type": "code",
   "execution_count": null,
   "id": "849c8976",
   "metadata": {},
   "outputs": [],
   "source": [
    "singlef.plot_traj(bin=10)"
   ]
  },
  {
   "cell_type": "code",
   "execution_count": null,
   "id": "8755b1d5",
   "metadata": {},
   "outputs": [],
   "source": [
    "desf.plot_bottom()"
   ]
  }
 ],
 "metadata": {
  "kernelspec": {
   "display_name": "Python 3",
   "language": "python",
   "name": "python3"
  },
  "language_info": {
   "codemirror_mode": {
    "name": "ipython",
    "version": 3
   },
   "file_extension": ".py",
   "mimetype": "text/x-python",
   "name": "python",
   "nbconvert_exporter": "python",
   "pygments_lexer": "ipython3",
   "version": "3.10.14"
  }
 },
 "nbformat": 4,
 "nbformat_minor": 5
}
